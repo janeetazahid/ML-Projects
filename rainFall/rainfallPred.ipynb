{
 "cells": [
  {
   "cell_type": "markdown",
   "id": "entertaining-timber",
   "metadata": {},
   "source": [
    "### This notebook presents code that aims to predict whether it will rain tomorrow "
   ]
  },
  {
   "cell_type": "markdown",
   "id": "viral-haven",
   "metadata": {},
   "source": [
    "The dataset can be found at: "
   ]
  }
 ],
 "metadata": {
  "kernelspec": {
   "display_name": "Python 3",
   "language": "python",
   "name": "python3"
  },
  "language_info": {
   "codemirror_mode": {
    "name": "ipython",
    "version": 3
   },
   "file_extension": ".py",
   "mimetype": "text/x-python",
   "name": "python",
   "nbconvert_exporter": "python",
   "pygments_lexer": "ipython3",
   "version": "3.7.7"
  }
 },
 "nbformat": 4,
 "nbformat_minor": 5
}
