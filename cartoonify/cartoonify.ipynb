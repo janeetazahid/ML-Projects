{
 "cells": [
  {
   "cell_type": "code",
   "execution_count": 1,
   "id": "conceptual-sympathy",
   "metadata": {},
   "outputs": [],
   "source": [
    "#imports \n",
    "import cv2\n",
    "import numpy as np \n",
    "import matplotlib.pyplot as plt \n",
    "import imageio\n",
    "import sys\n",
    "import easygui"
   ]
  },
  {
   "cell_type": "code",
   "execution_count": 2,
   "id": "martial-newport",
   "metadata": {},
   "outputs": [],
   "source": []
  },
  {
   "cell_type": "code",
   "execution_count": 3,
   "id": "automated-narrow",
   "metadata": {},
   "outputs": [],
   "source": [
    "def cartoonify(imgPath):\n",
    "    \"\"\"\n",
    "    Cartoonifies image stored in specified image path\n",
    "    @param imgPath: path to image file\n",
    "    \"\"\"\n",
    "    #read image \n",
    "    img=cv2.imread(imgPath)\n",
    "    if img is None:\n",
    "        print(\"The image file could not be found\")\n",
    "        sys.exit()\n",
    "    #convert to RGB\n",
    "    img_cvt_clr=cv2.cvtColor(img,cv2.COLOR_BGR2RGB)\n",
    "    #resize image\n",
    "    img_resized=cv2.resize(img_cvt_clr,(900,900))\n",
    "    #show image \n",
    "    grey_img=cv2.cvtColor(img,cv2.COLOR_BGR2GRAY)\n",
    "    img_resized_grey=cv2.resize(grey_img,(900,900))\n",
    "    #apply median blur\n",
    "    greyScale_smooth=cv2.medianBlur(grey_img,5)\n",
    "    resized_smooth=cv2.resize(greyScale_smooth,(900,900))\n",
    "#Allow user to choose image to cartoonify"
   ]
  },
  {
   "cell_type": "code",
   "execution_count": null,
   "id": "floral-universal",
   "metadata": {},
   "outputs": [],
   "source": [
    "imgPath=chooseFile()"
   ]
  },
  {
   "cell_type": "code",
   "execution_count": null,
   "id": "under-upset",
   "metadata": {},
   "outputs": [],
   "source": []
  }
 ],
 "metadata": {
  "kernelspec": {
   "display_name": "Python 3",
   "language": "python",
   "name": "python3"
  },
  "language_info": {
   "codemirror_mode": {
    "name": "ipython",
    "version": 3
   },
   "file_extension": ".py",
   "mimetype": "text/x-python",
   "name": "python",
   "nbconvert_exporter": "python",
   "pygments_lexer": "ipython3",
   "version": "3.7.7"
  }
 },
 "nbformat": 4,
 "nbformat_minor": 5
}
